{
 "cells": [
  {
   "cell_type": "code",
   "execution_count": null,
   "id": "533cbea4",
   "metadata": {},
   "outputs": [
    {
     "name": "stderr",
     "output_type": "stream",
     "text": [
      "e:\\Python\\lib\\site-packages\\tqdm\\auto.py:21: TqdmWarning: IProgress not found. Please update jupyter and ipywidgets. See https://ipywidgets.readthedocs.io/en/stable/user_install.html\n",
      "  from .autonotebook import tqdm as notebook_tqdm\n"
     ]
    },
    {
     "ename": "",
     "evalue": "",
     "output_type": "error",
     "traceback": [
      "\u001b[1;31mThe Kernel crashed while executing code in the current cell or a previous cell. \n",
      "\u001b[1;31mPlease review the code in the cell(s) to identify a possible cause of the failure. \n",
      "\u001b[1;31mClick <a href='https://aka.ms/vscodeJupyterKernelCrash'>here</a> for more info. \n",
      "\u001b[1;31mView Jupyter <a href='command:jupyter.viewOutput'>log</a> for further details."
     ]
    }
   ],
   "source": [
    "from keybert import KeyBERT\n",
    "from langchain_community.vectorstores import Chroma\n",
    "from langchain.embeddings import HuggingFaceEmbeddings\n",
    "\n",
    "def extract_keywords_keybert(text, top_n=5):\n",
    "    kw_model = KeyBERT(model='paraphrase-multilingual-MiniLM-L12-v2')\n",
    "    keywords = kw_model.extract_keywords(text, keyphrase_ngram_range=(1, 2), stop_words='english', top_n=top_n)\n",
    "    return [kw for kw, _ in keywords]\n",
    "\n",
    "def run_keybert_qa(query, persist_dir=\"ChromaDB\", top_k=5):\n",
    "    # 1. Trích xuất từ khóa\n",
    "    keywords = extract_keywords_keybert(query)\n",
    "    print(\"Từ khóa:\", \", \".join(keywords))\n",
    "    if not keywords:\n",
    "        print(\"Không tìm thấy từ khóa.\")\n",
    "        return\n",
    "\n",
    "    keyword_query = \" \".join(keywords)\n",
    "\n",
    "    # 2. Tải Embedding và database\n",
    "    embedding = HuggingFaceEmbeddings(\n",
    "        model_name=\"sentence-transformers/paraphrase-multilingual-MiniLM-L12-v2\",\n",
    "        model_kwargs={\"device\": \"cpu\"}\n",
    "    )\n",
    "    db = Chroma(persist_directory=persist_dir, embedding_function=embedding)\n",
    "    retriever = db.as_retriever(search_kwargs={\"k\": top_k})\n",
    "\n",
    "    # 3. Truy xuất tài liệu dựa vào keyword_query\n",
    "    retrieved_docs = retriever.get_relevant_documents(keyword_query)\n",
    "\n",
    "    return {\n",
    "        \"question\": query,\n",
    "        \"keywords\": keywords,\n",
    "        \"document\": [doc.page_content for doc in retrieved_docs]\n",
    "    }"
   ]
  },
  {
   "cell_type": "code",
   "execution_count": null,
   "id": "6660cb8f",
   "metadata": {},
   "outputs": [
    {
     "name": "stderr",
     "output_type": "stream",
     "text": [
      "e:\\Python\\lib\\site-packages\\transformers\\models\\bert\\modeling_bert.py:440: UserWarning: 1Torch was not compiled with flash attention. (Triggered internally at C:\\actions-runner\\_work\\pytorch\\pytorch\\builder\\windows\\pytorch\\aten\\src\\ATen\\native\\transformers\\cuda\\sdp_utils.cpp:555.)\n",
      "  attn_output = torch.nn.functional.scaled_dot_product_attention(\n",
      "C:\\Users\\admin\\AppData\\Local\\Temp\\ipykernel_8992\\1480239994.py:21: LangChainDeprecationWarning: The class `HuggingFaceEmbeddings` was deprecated in LangChain 0.2.2 and will be removed in 1.0. An updated version of the class exists in the :class:`~langchain-huggingface package and should be used instead. To use it run `pip install -U :class:`~langchain-huggingface` and import as `from :class:`~langchain_huggingface import HuggingFaceEmbeddings``.\n",
      "  embedding = HuggingFaceEmbeddings(\n"
     ]
    },
    {
     "name": "stdout",
     "output_type": "stream",
     "text": [
      "Từ khóa: răng là, răng, sâu răng, là gì, gì\n"
     ]
    },
    {
     "name": "stderr",
     "output_type": "stream",
     "text": [
      "C:\\Users\\admin\\AppData\\Local\\Temp\\ipykernel_8992\\1480239994.py:25: LangChainDeprecationWarning: The class `Chroma` was deprecated in LangChain 0.2.9 and will be removed in 1.0. An updated version of the class exists in the :class:`~langchain-chroma package and should be used instead. To use it run `pip install -U :class:`~langchain-chroma` and import as `from :class:`~langchain_chroma import Chroma``.\n",
      "  db = Chroma(persist_directory=persist_dir, embedding_function=embedding)\n",
      "C:\\Users\\admin\\AppData\\Local\\Temp\\ipykernel_8992\\1480239994.py:29: LangChainDeprecationWarning: The method `BaseRetriever.get_relevant_documents` was deprecated in langchain-core 0.1.46 and will be removed in 1.0. Use :meth:`~invoke` instead.\n",
      "  retrieved_docs = retriever.get_relevant_documents(keyword_query)\n"
     ]
    }
   ],
   "source": [
    "run_keybert_qa(\"Sâu răng là gì\")[\"document\"]\n"
   ]
  }
 ],
 "metadata": {
  "kernelspec": {
   "display_name": "Python 3",
   "language": "python",
   "name": "python3"
  },
  "language_info": {
   "codemirror_mode": {
    "name": "ipython",
    "version": 3
   },
   "file_extension": ".py",
   "mimetype": "text/x-python",
   "name": "python",
   "nbconvert_exporter": "python",
   "pygments_lexer": "ipython3",
   "version": "3.10.3"
  }
 },
 "nbformat": 4,
 "nbformat_minor": 5
}
