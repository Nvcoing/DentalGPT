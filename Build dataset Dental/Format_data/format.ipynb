{
 "cells": [
  {
   "cell_type": "code",
   "execution_count": 5,
   "id": "e76b0fff",
   "metadata": {},
   "outputs": [
    {
     "name": "stdout",
     "output_type": "stream",
     "text": [
      "✅ Đã lưu file: ..\\Process_data\\Data_processed\\Dental_CoT_dataset.xlsx\n"
     ]
    }
   ],
   "source": [
    "import os\n",
    "import pandas as pd\n",
    "\n",
    "# Đường dẫn tới thư mục chứa các file cần gộp\n",
    "folder_path = '..\\\\Process_data\\\\Data_processed'\n",
    "\n",
    "# Danh sách các cột cần giữ\n",
    "columns_needed = ['Câu hỏi', 'CoT_Goal', 'CoT_Reasoning', 'CoT_Justification', 'Câu trả lời']\n",
    "\n",
    "# Khởi tạo danh sách để chứa các DataFrame\n",
    "all_dataframes = []\n",
    "\n",
    "# Duyệt qua các file trong thư mục\n",
    "for file in os.listdir(folder_path):\n",
    "    if file.endswith('.csv') or file.endswith('.xlsx'):\n",
    "        file_path = os.path.join(folder_path, file)\n",
    "        try:\n",
    "            # Đọc file theo định dạng\n",
    "            if file.endswith('.csv'):\n",
    "                df = pd.read_csv(file_path)\n",
    "            else:\n",
    "                df = pd.read_excel(file_path)\n",
    "\n",
    "            # Lọc những cột cần thiết nếu có tồn tại\n",
    "            df_filtered = df[[col for col in columns_needed if col in df.columns]]\n",
    "\n",
    "            # Chỉ thêm nếu có đủ 5 cột\n",
    "            if all(col in df_filtered.columns for col in columns_needed):\n",
    "                df_filtered = df_filtered[columns_needed]\n",
    "                all_dataframes.append(df_filtered)\n",
    "            else:\n",
    "                print(f\"Bỏ qua file thiếu cột: {file}\")\n",
    "\n",
    "        except Exception as e:\n",
    "            print(f\"Lỗi khi đọc file {file}: {e}\")\n",
    "\n",
    "# Gộp tất cả các DataFrame lại thành một\n",
    "if all_dataframes:\n",
    "    merged_df = pd.concat(all_dataframes, ignore_index=True)\n",
    "\n",
    "    # Xuất file kết quả dạng Excel\n",
    "    output_path = os.path.join(folder_path, 'Dental_CoT_dataset.xlsx')\n",
    "    merged_df.to_excel(output_path, index=False)\n",
    "    print(f\"✅ Đã lưu file: {output_path}\")\n",
    "else:\n",
    "    print(\"⚠️ Không có file nào phù hợp để xử lý.\")\n"
   ]
  }
 ],
 "metadata": {
  "kernelspec": {
   "display_name": "Python 3",
   "language": "python",
   "name": "python3"
  },
  "language_info": {
   "codemirror_mode": {
    "name": "ipython",
    "version": 3
   },
   "file_extension": ".py",
   "mimetype": "text/x-python",
   "name": "python",
   "nbconvert_exporter": "python",
   "pygments_lexer": "ipython3",
   "version": "3.12.7"
  }
 },
 "nbformat": 4,
 "nbformat_minor": 5
}
