{
 "cells": [
  {
   "cell_type": "code",
   "execution_count": null,
   "id": "29bc4b2a",
   "metadata": {},
   "outputs": [],
   "source": [
    "import gradio as gr\n",
    "import re\n",
    "import io\n",
    "import base64\n",
    "from matplotlib import pyplot as plt\n",
    "\n",
    "def process_text_with_code_blocks(text: str) -> str:\n",
    "    code_blocks = re.findall(r\"```python(.*?)```\", text, re.DOTALL)\n",
    "\n",
    "    for code_block in code_blocks:\n",
    "        code = code_block.strip()\n",
    "        img_buffer = io.BytesIO()\n",
    "        local_env = {\"plt\": plt, \"io\": io}\n",
    "\n",
    "        try:\n",
    "            exec(code, local_env)\n",
    "            plt.savefig(img_buffer, format='png')\n",
    "            plt.close()\n",
    "            img_buffer.seek(0)\n",
    "\n",
    "            img_base64 = base64.b64encode(img_buffer.read()).decode(\"utf-8\")\n",
    "            image_markdown = f\"![Biểu đồ](data:image/png;base64,{img_base64})\"\n",
    "            text = text.replace(f\"```python\\n{code}\\n```\", image_markdown)\n",
    "        except Exception as e:\n",
    "            text = f\"Lỗi khi chạy code: {e}\"\n",
    "    return text\n",
    "\n",
    "# Tạo giao diện Gradio\n",
    "demo = gr.Interface(\n",
    "    fn=process_text_with_code_blocks,\n",
    "    inputs=gr.Textbox(lines=20, label=\"Nhập văn bản có chứa code Python\", placeholder=\"Nhập văn bản có code ở dạng ```python ... ```\"),\n",
    "    outputs=gr.Markdown(label=\"Văn bản sau khi gắn biểu đồ\"),\n",
    "    title=\"Biến Code Thành Biểu Đồ Tự Động\",\n",
    "    description=\"Nhập văn bản chứa đoạn code Python trong khối ```python ... ``` để tự động chạy code và gắn biểu đồ vào vị trí tương ứng.\"\n",
    ")\n",
    "\n",
    "demo.launch()\n"
   ]
  },
  {
   "cell_type": "code",
   "execution_count": null,
   "id": "d5a0f022",
   "metadata": {},
   "outputs": [
    {
     "name": "stderr",
     "output_type": "stream",
     "text": [
      "C:\\Users\\PC\\AppData\\Local\\Temp\\ipykernel_2696\\2841669594.py:35: UserWarning: You have not specified a value for the `type` parameter. Defaulting to the 'tuples' format for chatbot messages, but this is deprecated and will be removed in a future version of Gradio. Please set type='messages' instead, which uses openai-style dictionaries with 'role' and 'content' keys.\n",
      "  chatbot = gr.Chatbot(label=\"Trợ lý Biểu đồ Python\", bubble_full_width=False)\n",
      "C:\\Users\\PC\\AppData\\Local\\Temp\\ipykernel_2696\\2841669594.py:35: DeprecationWarning: The 'bubble_full_width' parameter is deprecated and will be removed in a future version. This parameter no longer has any effect.\n",
      "  chatbot = gr.Chatbot(label=\"Trợ lý Biểu đồ Python\", bubble_full_width=False)\n"
     ]
    },
    {
     "name": "stdout",
     "output_type": "stream",
     "text": [
      "* Running on local URL:  http://127.0.0.1:7867\n",
      "\n",
      "To create a public link, set `share=True` in `launch()`.\n"
     ]
    },
    {
     "data": {
      "text/html": [
       "<div><iframe src=\"http://127.0.0.1:7867/\" width=\"100%\" height=\"500\" allow=\"autoplay; camera; microphone; clipboard-read; clipboard-write;\" frameborder=\"0\" allowfullscreen></iframe></div>"
      ],
      "text/plain": [
       "<IPython.core.display.HTML object>"
      ]
     },
     "metadata": {},
     "output_type": "display_data"
    },
    {
     "data": {
      "text/plain": []
     },
     "execution_count": 7,
     "metadata": {},
     "output_type": "execute_result"
    },
    {
     "name": "stderr",
     "output_type": "stream",
     "text": [
      "<string>:16: UserWarning: FigureCanvasAgg is non-interactive, and thus cannot be shown\n",
      "<string>:15: UserWarning: FigureCanvasAgg is non-interactive, and thus cannot be shown\n"
     ]
    }
   ],
   "source": [
    "import gradio as gr\n",
    "import re\n",
    "import matplotlib.pyplot as plt\n",
    "import uuid\n",
    "import os\n",
    "from PIL import Image\n",
    "\n",
    "def process_message(history, message):\n",
    "    history.append((message, None))\n",
    "\n",
    "    code_blocks = re.findall(r\"```python(.*?)```\", message, re.DOTALL)\n",
    "\n",
    "    if not code_blocks:\n",
    "        history[-1] = (message, \"🤖 Không tìm thấy đoạn mã Python nào.\")\n",
    "        return history, None\n",
    "\n",
    "    for code in code_blocks:\n",
    "        code = code.strip()\n",
    "        img_path = f\"temp_{uuid.uuid4().hex}.png\"\n",
    "        local_env = {\"plt\": plt}\n",
    "\n",
    "        try:\n",
    "            exec(code, local_env)\n",
    "            plt.savefig(img_path)\n",
    "            plt.close()\n",
    "\n",
    "            # Đọc ảnh và trả về đường dẫn\n",
    "            history.append((None, gr.Image(img_path, label=\"Biểu đồ Python\")))\n",
    "        except Exception as e:\n",
    "            history.append((None, f\"🤖 Lỗi khi chạy code:\\n```\\n{e}\\n```\"))\n",
    "\n",
    "    return history, \"\"\n",
    "\n",
    "with gr.Blocks() as demo:\n",
    "    chatbot = gr.Chatbot(label=\"Trợ lý Biểu đồ Python\", bubble_full_width=False)\n",
    "    msg = gr.Textbox(label=\"Nhập văn bản có chứa code Python\", placeholder=\"Nhập text có chứa ```python ...```\")\n",
    "    state = gr.State([])\n",
    "\n",
    "    msg.submit(process_message, [state, msg], [chatbot, msg])\n",
    "    msg.submit(lambda: \"\", None, msg)\n",
    "\n",
    "demo.launch()\n"
   ]
  },
  {
   "cell_type": "markdown",
   "id": "a6ac1679",
   "metadata": {},
   "source": [
    "*** \n",
    "```python\n",
    "[code]\n",
    "```"
   ]
  },
  {
   "cell_type": "code",
   "execution_count": 12,
   "id": "aa525a88",
   "metadata": {},
   "outputs": [
    {
     "name": "stderr",
     "output_type": "stream",
     "text": [
      "C:\\Users\\PC\\AppData\\Local\\Temp\\ipykernel_2696\\3571152332.py:37: UserWarning: You have not specified a value for the `type` parameter. Defaulting to the 'tuples' format for chatbot messages, but this is deprecated and will be removed in a future version of Gradio. Please set type='messages' instead, which uses openai-style dictionaries with 'role' and 'content' keys.\n",
      "  chatbot = gr.Chatbot(label=\"Trợ lý Biểu đồ Python\", bubble_full_width=False)\n",
      "C:\\Users\\PC\\AppData\\Local\\Temp\\ipykernel_2696\\3571152332.py:37: DeprecationWarning: The 'bubble_full_width' parameter is deprecated and will be removed in a future version. This parameter no longer has any effect.\n",
      "  chatbot = gr.Chatbot(label=\"Trợ lý Biểu đồ Python\", bubble_full_width=False)\n"
     ]
    },
    {
     "name": "stdout",
     "output_type": "stream",
     "text": [
      "* Running on local URL:  http://127.0.0.1:7871\n",
      "\n",
      "To create a public link, set `share=True` in `launch()`.\n"
     ]
    },
    {
     "data": {
      "text/html": [
       "<div><iframe src=\"http://127.0.0.1:7871/\" width=\"100%\" height=\"500\" allow=\"autoplay; camera; microphone; clipboard-read; clipboard-write;\" frameborder=\"0\" allowfullscreen></iframe></div>"
      ],
      "text/plain": [
       "<IPython.core.display.HTML object>"
      ]
     },
     "metadata": {},
     "output_type": "display_data"
    },
    {
     "data": {
      "text/plain": []
     },
     "execution_count": 12,
     "metadata": {},
     "output_type": "execute_result"
    }
   ],
   "source": [
    "import gradio as gr\n",
    "import re\n",
    "import matplotlib.pyplot as plt\n",
    "import uuid\n",
    "from PIL import Image\n",
    "\n",
    "def process_message(history, message, images):\n",
    "    history.append((message, None))\n",
    "\n",
    "    code_blocks = re.findall(r\"```python(.*?)```\", message, re.DOTALL)\n",
    "\n",
    "    if not code_blocks:\n",
    "        history[-1] = (message, \"🤖 Không tìm thấy đoạn mã Python nào.\")\n",
    "        return history, images\n",
    "\n",
    "    for code in code_blocks:\n",
    "        code = code.strip()\n",
    "        img_path = f\"temp_{uuid.uuid4().hex}.png\"\n",
    "        local_env = {\"plt\": plt}\n",
    "\n",
    "        try:\n",
    "            exec(code, local_env)\n",
    "            plt.savefig(img_path)\n",
    "            plt.close()\n",
    "\n",
    "            # Đọc ảnh vào bộ nhớ và thêm vào danh sách ảnh\n",
    "            img = Image.open(img_path)\n",
    "            images.append(img)\n",
    "\n",
    "        except Exception as e:\n",
    "            history.append((None, f\"🤖 Lỗi khi chạy code:\\n```\\n{e}\\n```\"))\n",
    "\n",
    "    # Trả về lịch sử và tất cả ảnh đã tạo\n",
    "    return history, images\n",
    "\n",
    "with gr.Blocks() as demo:\n",
    "    chatbot = gr.Chatbot(label=\"Trợ lý Biểu đồ Python\", bubble_full_width=False)\n",
    "    msg = gr.Textbox(label=\"Nhập văn bản có chứa code Python\", placeholder=\"Nhập text có chứa ```python ...```\")\n",
    "    state = gr.State([])  # Lưu trữ lịch sử chat\n",
    "    img_state = gr.State([])  # Lưu trữ danh sách ảnh đã được tạo ra\n",
    "\n",
    "    # Sử dụng gr.Gallery để hiển thị tất cả các ảnh\n",
    "    gallery = gr.Gallery(label=\"Các biểu đồ Python\")\n",
    "\n",
    "    # Xử lý tin nhắn và thêm ảnh vào trạng thái\n",
    "    msg.submit(process_message, [state, msg, img_state], [chatbot, gallery])\n",
    "\n",
    "    msg.submit(lambda: \"\", None, msg)\n",
    "\n",
    "demo.launch()\n"
   ]
  }
 ],
 "metadata": {
  "kernelspec": {
   "display_name": "Python 3",
   "language": "python",
   "name": "python3"
  },
  "language_info": {
   "codemirror_mode": {
    "name": "ipython",
    "version": 3
   },
   "file_extension": ".py",
   "mimetype": "text/x-python",
   "name": "python",
   "nbconvert_exporter": "python",
   "pygments_lexer": "ipython3",
   "version": "3.12.7"
  }
 },
 "nbformat": 4,
 "nbformat_minor": 5
}
