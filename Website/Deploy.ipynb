{
 "cells": [
  {
   "cell_type": "code",
   "execution_count": 1,
   "id": "89e154a7",
   "metadata": {},
   "outputs": [],
   "source": [
    "def Model(question: str) -> str:\n",
    "    \"\"\"\n",
    "    Mô phỏng phản hồi của một mô hình LLM theo định dạng prompt DentalGPT.\n",
    "    \n",
    "    Args:\n",
    "        question (str): Câu hỏi từ bệnh nhân.\n",
    "\n",
    "    Returns:\n",
    "        str: Chuỗi phản hồi giống như từ mô hình.\n",
    "    \"\"\"\n",
    "\n",
    "    # Giả định mô phỏng đơn giản - có thể thay bằng model thật nếu cần\n",
    "    goal = \"Xác định vấn đề chính từ câu hỏi và hướng điều trị.\"\n",
    "    reasoning = \"Phân tích các triệu chứng trong câu hỏi để suy ra nguyên nhân.\"\n",
    "    justification = \"Dựa trên kinh nghiệm lâm sàng và thông tin hiện tại, lý do lựa chọn phương án điều trị.\"\n",
    "    answer = \"Bạn nên đến nha sĩ để kiểm tra sâu răng và điều trị kịp thời.\"\n",
    "\n",
    "    # Format thành prompt giống bạn dùng để train\n",
    "    prompt = (\n",
    "        \"<|Paitent|>\\n\"\n",
    "        f\"###Câu hỏi:\\n {question.strip()}\\n\"\n",
    "        \"<|Goal|>\\n\"\n",
    "        f\"###Mục tiêu:\\n {goal}\\n\"\n",
    "        \"<|Step_Reasoning|>\\n\"\n",
    "        f\"###Bước suy nghĩ:\\n {reasoning}\\n\"\n",
    "        \"<|Explain|>\\n\"\n",
    "        f\"###Giải thích:\\n {justification}\\n\"\n",
    "        \"<|DentalGPT|>\\n\"\n",
    "        f\"###Câu trả lời:\\n{answer}\"\n",
    "    )\n",
    "\n",
    "    return prompt\n"
   ]
  },
  {
   "cell_type": "code",
   "execution_count": 2,
   "id": "177547f6",
   "metadata": {},
   "outputs": [
    {
     "name": "stdout",
     "output_type": "stream",
     "text": [
      "<|Paitent|>\n",
      "###Câu hỏi:\n",
      " Tôi bị đau răng khi ăn đồ ngọt thì phải làm sao?\n",
      "<|Goal|>\n",
      "###Mục tiêu:\n",
      " Xác định vấn đề chính từ câu hỏi và hướng điều trị.\n",
      "<|Step_Reasoning|>\n",
      "###Bước suy nghĩ:\n",
      " Phân tích các triệu chứng trong câu hỏi để suy ra nguyên nhân.\n",
      "<|Explain|>\n",
      "###Giải thích:\n",
      " Dựa trên kinh nghiệm lâm sàng và thông tin hiện tại, lý do lựa chọn phương án điều trị.\n",
      "<|DentalGPT|>\n",
      "###Câu trả lời:\n",
      "Bạn nên đến nha sĩ để kiểm tra sâu răng và điều trị kịp thời.\n"
     ]
    }
   ],
   "source": [
    "user_question = \"Tôi bị đau răng khi ăn đồ ngọt thì phải làm sao?\"\n",
    "print(Model(user_question))\n"
   ]
  }
 ],
 "metadata": {
  "kernelspec": {
   "display_name": "AI",
   "language": "python",
   "name": "python3"
  },
  "language_info": {
   "codemirror_mode": {
    "name": "ipython",
    "version": 3
   },
   "file_extension": ".py",
   "mimetype": "text/x-python",
   "name": "python",
   "nbconvert_exporter": "python",
   "pygments_lexer": "ipython3",
   "version": "3.12.7"
  }
 },
 "nbformat": 4,
 "nbformat_minor": 5
}
